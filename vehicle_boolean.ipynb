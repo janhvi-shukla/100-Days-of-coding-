{
  "nbformat": 4,
  "nbformat_minor": 0,
  "metadata": {
    "colab": {
      "provenance": []
    },
    "kernelspec": {
      "name": "python3",
      "display_name": "Python 3"
    },
    "language_info": {
      "name": "python"
    }
  },
  "cells": [
    {
      "cell_type": "code",
      "source": [
        "def travel (bike=True,car=False):\n",
        "  plan_travel=bike or car\n",
        "  return bike, car,plan_travel"
      ],
      "metadata": {
        "id": "xRiUdaBPrnxA"
      },
      "execution_count": 1,
      "outputs": []
    },
    {
      "cell_type": "code",
      "source": [
        "travel()"
      ],
      "metadata": {
        "colab": {
          "base_uri": "https://localhost:8080/"
        },
        "id": "419wqTzhsXJl",
        "outputId": "5b3aeaae-e110-4a15-fac8-ffcee13a7620"
      },
      "execution_count": 2,
      "outputs": [
        {
          "output_type": "execute_result",
          "data": {
            "text/plain": [
              "(True, False, True)"
            ]
          },
          "metadata": {},
          "execution_count": 2
        }
      ]
    },
    {
      "cell_type": "code",
      "source": [
        "travel(False)"
      ],
      "metadata": {
        "colab": {
          "base_uri": "https://localhost:8080/"
        },
        "id": "dxLy1BOgsjy2",
        "outputId": "af32dbd2-e581-4b9c-a529-82a9d598bb8e"
      },
      "execution_count": 3,
      "outputs": [
        {
          "output_type": "execute_result",
          "data": {
            "text/plain": [
              "(False, False, False)"
            ]
          },
          "metadata": {},
          "execution_count": 3
        }
      ]
    },
    {
      "cell_type": "code",
      "source": [
        "travel(_,True)"
      ],
      "metadata": {
        "colab": {
          "base_uri": "https://localhost:8080/"
        },
        "id": "H2dNaIjnszzb",
        "outputId": "3c4f4652-1041-466c-d33b-af7605ddbd7d"
      },
      "execution_count": 5,
      "outputs": [
        {
          "output_type": "execute_result",
          "data": {
            "text/plain": [
              "(((False, False, False), True, (False, False, False)),\n",
              " True,\n",
              " ((False, False, False), True, (False, False, False)))"
            ]
          },
          "metadata": {},
          "execution_count": 5
        }
      ]
    }
  ]
}